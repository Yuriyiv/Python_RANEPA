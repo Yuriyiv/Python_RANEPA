{
 "cells": [
  {
   "cell_type": "markdown",
   "id": "092d0305",
   "metadata": {},
   "source": [
    "## Знакомство с Jupyter Notebook"
   ]
  },
  {
   "cell_type": "markdown",
   "id": "9da3baea",
   "metadata": {},
   "source": [
    "Тетрадка состоит из ячеек, каждая из которых запускается отдельно. Переменные, как и всё остальное (фукнции, классы и т.д.), глобальны для всех ячеек. Это значит, что если задать переменную в одной ячейке, в другой ячейке можно спокойно выполнять с ней операции.\n",
    "\n",
    "Наличие нескольких ячеек с одной стороны удобно (можно запускать код по более крупным частям, нежели как в R по строке), но может быть утомительно каждый раз запускать каждую ячейку. Тем не менее, есть полезная кнопка, позволяющая перезапустить ядро и запустить все ячейки (Kernel -> Restart & Run All). Более того, это полезно делать __перед отправкой другому человеку__, так как позволяет выявить ошибки\n",
    "\n",
    "Особенности Jupyter Notebook:\n",
    "\n",
    "* __Markdown__. Можно писать математические формулы и т.д. в LaTeX. Можно вставлять картинки. Писать нормальные комментарии и оформлять их. Сверхудобный инструмент\n",
    "* Упомянутая выше структура в виде ячеек\n",
    "* Нет режима дебагга, как например, в RStudio. Это существенный минус, так как затрудняет нахождение ошибок. Кроме того, в отличие от других оболочек (PyCharm и других) нет подсветки синтаксиса, подсказок по PEP8 и т.д."
   ]
  },
  {
   "cell_type": "markdown",
   "id": "d38da55c",
   "metadata": {},
   "source": [
    "Горячие клавиши и полезные фишки:\n",
    "* Для создания ячейки сверху нажмите на белое поле слева от ячейки (чтобы снять выделение с неё) и нажмите A на клавиатуре. Для создания ячейки снизу нажмите B\n",
    "* Чтобы запустить ячейку (необязательно код!) можно нажать Shift + Enter, чтобы запустить её и перейти на ячейку ниже (удобно, когда запускаешь их последовательно), либо Ctrl + Enter, чтобы запустить и остатся на ней (удобно, когда нужно запустить её несколько раз подряд)\n",
    "* Внимательно следите за типом ячеек (самые важные: Code (Y) и Markdown (M))\n",
    "* __Удаление__ ячеек происходит с помощью горячей клавиши D. Нужно выбрать ячейку и дважды нажать клавишу. __Внимание!__ Вернуть ячейку не получится\n",
    "* Можно копировать ячейки (они копируются перед выбранной ячейкой)"
   ]
  },
  {
   "cell_type": "markdown",
   "id": "fd8164d8",
   "metadata": {},
   "source": [
    "### $\\LaTeX$\n",
    "\n",
    "$\\sum^{5}_{0} x^2$ \n"
   ]
  },
  {
   "cell_type": "markdown",
   "id": "5313a24f",
   "metadata": {},
   "source": [
    "## Знакомство с Python"
   ]
  },
  {
   "cell_type": "markdown",
   "id": "fa56be93",
   "metadata": {},
   "source": [
    "Название - «Питон» или «Пайтон» (в честь комедийных серий BBC «Летающий цирк Монти-Пайтона»)\n",
    "Создатель - голландец Гвидо ван Россум (Guido van Rossum) (в 1991 году)"
   ]
  },
  {
   "cell_type": "markdown",
   "id": "adb7acb3",
   "metadata": {},
   "source": [
    "### Задание 1: охарактеризовать язык Python в терминах, изученных раннее"
   ]
  },
  {
   "cell_type": "markdown",
   "id": "54090dbc",
   "metadata": {},
   "source": [
    "* Компилятор или интерпретатор?\n",
    "* Императивный или декларативный стиль?\n",
    "* Статическая или динамическая типизация?\n",
    "* Явная или неявная типизация?\n",
    "* Строгая или нестрогая типизация?"
   ]
  },
  {
   "cell_type": "code",
   "execution_count": 9,
   "id": "333313d4",
   "metadata": {},
   "outputs": [],
   "source": [
    "a = 5\n",
    "my_str = 'hello'\n",
    "\n",
    "# a + my_str"
   ]
  },
  {
   "cell_type": "markdown",
   "id": "14e0920f",
   "metadata": {},
   "source": [
    "\n",
    "Особенности:\n",
    "\n",
    "* объектно-ориентированный\n",
    "* высокоуровневый язык\n",
    "* встроенные высокоуровневые структуры данных\n",
    "* динамическая типизация\n",
    "* интерпретатор\n",
    "* синтаксис прост в изучении\n",
    "* поддержка модулей и пакетов (большинство библиотек бесплатны)\n",
    "* универсальный\n",
    "* интеграция с другими языками (C (Cython), C++, Java (JPython))\n",
    "* стиль оформления кода - PEP8 (если Вы хороший человек).\n",
    "\n",
    "Самое главное из PEP8:\n",
    "\n",
    "* отступ – 4 пробела\n",
    "* длина строки < 80 символов\n",
    "* переменные: var_recommended\n",
    "* константы: CONST_RECOMMENDED #неизменяемая переменная\n",
    "\n",
    "Что такое PEP: PEP stands for Python Enhancement Proposal. A PEP is a design document providing information to the Python community, or describing a new feature for Python or its processes or environment"
   ]
  },
  {
   "cell_type": "markdown",
   "id": "43a13097",
   "metadata": {},
   "source": [
    "### Input"
   ]
  },
  {
   "cell_type": "code",
   "execution_count": 21,
   "id": "8677461b",
   "metadata": {},
   "outputs": [
    {
     "name": "stdout",
     "output_type": "stream",
     "text": [
      "5\n"
     ]
    },
    {
     "data": {
      "text/plain": [
       "'5'"
      ]
     },
     "execution_count": 21,
     "metadata": {},
     "output_type": "execute_result"
    }
   ],
   "source": [
    "input()"
   ]
  },
  {
   "cell_type": "code",
   "execution_count": 22,
   "id": "8b263eaf",
   "metadata": {
    "scrolled": true
   },
   "outputs": [
    {
     "name": "stdout",
     "output_type": "stream",
     "text": [
      "10\n"
     ]
    },
    {
     "data": {
      "text/plain": [
       "str"
      ]
     },
     "execution_count": 22,
     "metadata": {},
     "output_type": "execute_result"
    }
   ],
   "source": [
    "type(input())"
   ]
  },
  {
   "cell_type": "code",
   "execution_count": 24,
   "id": "8d5c0144",
   "metadata": {},
   "outputs": [
    {
     "name": "stdout",
     "output_type": "stream",
     "text": [
      "10\n"
     ]
    },
    {
     "data": {
      "text/plain": [
       "15"
      ]
     },
     "execution_count": 24,
     "metadata": {},
     "output_type": "execute_result"
    }
   ],
   "source": [
    "int(input()) + 5"
   ]
  },
  {
   "cell_type": "code",
   "execution_count": 26,
   "id": "e1c992da",
   "metadata": {},
   "outputs": [
    {
     "name": "stdout",
     "output_type": "stream",
     "text": [
      "5\n",
      "5\n"
     ]
    }
   ],
   "source": [
    "hi = input()\n",
    "print(hi)"
   ]
  },
  {
   "cell_type": "markdown",
   "id": "de408e8e",
   "metadata": {},
   "source": [
    "### Импорт библиотек\n"
   ]
  },
  {
   "cell_type": "code",
   "execution_count": 1,
   "id": "3f40fea3",
   "metadata": {},
   "outputs": [
    {
     "name": "stdout",
     "output_type": "stream",
     "text": [
      "The Zen of Python, by Tim Peters\n",
      "\n",
      "Beautiful is better than ugly.\n",
      "Explicit is better than implicit.\n",
      "Simple is better than complex.\n",
      "Complex is better than complicated.\n",
      "Flat is better than nested.\n",
      "Sparse is better than dense.\n",
      "Readability counts.\n",
      "Special cases aren't special enough to break the rules.\n",
      "Although practicality beats purity.\n",
      "Errors should never pass silently.\n",
      "Unless explicitly silenced.\n",
      "In the face of ambiguity, refuse the temptation to guess.\n",
      "There should be one-- and preferably only one --obvious way to do it.\n",
      "Although that way may not be obvious at first unless you're Dutch.\n",
      "Now is better than never.\n",
      "Although never is often better than *right* now.\n",
      "If the implementation is hard to explain, it's a bad idea.\n",
      "If the implementation is easy to explain, it may be a good idea.\n",
      "Namespaces are one honking great idea -- let's do more of those!\n"
     ]
    }
   ],
   "source": [
    "import this"
   ]
  },
  {
   "cell_type": "code",
   "execution_count": 3,
   "id": "70794f76",
   "metadata": {},
   "outputs": [
    {
     "data": {
      "text/plain": [
       "2.0"
      ]
     },
     "execution_count": 3,
     "metadata": {},
     "output_type": "execute_result"
    }
   ],
   "source": [
    "import numpy as np\n",
    "np.sqrt(4)"
   ]
  },
  {
   "cell_type": "code",
   "execution_count": 7,
   "id": "fae2ee74",
   "metadata": {},
   "outputs": [
    {
     "data": {
      "text/plain": [
       "4.0"
      ]
     },
     "execution_count": 7,
     "metadata": {},
     "output_type": "execute_result"
    }
   ],
   "source": [
    "from numpy import sqrt as my_sqrt\n",
    "my_sqrt(16)"
   ]
  },
  {
   "cell_type": "markdown",
   "id": "e5432827",
   "metadata": {},
   "source": [
    "**Все типы данных** в Python относятся к одной из **2-х категорий**: **изменяемые (mutable)** и **неизменяемые (unmutable)**.   \n",
    "\n",
    "*Неизменяемые объекты*:  \n",
    "* числовые данные (int, float), \n",
    "* bool,\n",
    "* None,\n",
    "* символьные строки (class 'str'), \n",
    "* кортежи (tuple).  \n",
    "\n",
    "*Изменяемые объекты*:  \n",
    "* списки (list), \n",
    "* множества (set), \n",
    "* словари (dict).  \n",
    "\n",
    "Вновь определяемые пользователем типы (классы) могут быть определены как неизменяемые или изменяемые. Изменяемость объектов определённого типа является принципиально важной характеристикой, определяющей, может ли объект такого типа **выступать в качестве ключа для словарей (dict)** или нет."
   ]
  },
  {
   "cell_type": "markdown",
   "id": "fcb63d30",
   "metadata": {},
   "source": [
    "__Int__ и простые операции"
   ]
  },
  {
   "cell_type": "code",
   "execution_count": 14,
   "id": "6f848c8c",
   "metadata": {},
   "outputs": [
    {
     "name": "stdout",
     "output_type": "stream",
     "text": [
      "5 | <class 'int'>\n"
     ]
    }
   ],
   "source": [
    "x = 5\n",
    "\n",
    "print(x, '|', type(x))"
   ]
  },
  {
   "cell_type": "code",
   "execution_count": 17,
   "id": "196dddff",
   "metadata": {},
   "outputs": [
    {
     "name": "stdout",
     "output_type": "stream",
     "text": [
      "9 20 1 2\n"
     ]
    }
   ],
   "source": [
    "a = 4 + 5\n",
    "b = 4 * 5\n",
    "c = 6 // 4 # целочисл деление\n",
    "d = 6 % 4 # остаток\n",
    "\n",
    "print(a, b, c, d)"
   ]
  },
  {
   "cell_type": "code",
   "execution_count": 18,
   "id": "1ecb9fe6",
   "metadata": {},
   "outputs": [
    {
     "name": "stdout",
     "output_type": "stream",
     "text": [
      "6 16\n"
     ]
    }
   ],
   "source": [
    "# Тут внимательно\n",
    "\n",
    "print(4 ^ 2, 4 ** 2)"
   ]
  },
  {
   "cell_type": "code",
   "execution_count": null,
   "id": "e2020692",
   "metadata": {},
   "outputs": [],
   "source": [
    "print( -(5 // 4) )"
   ]
  },
  {
   "cell_type": "code",
   "execution_count": null,
   "id": "3f2057bb",
   "metadata": {},
   "outputs": [],
   "source": [
    "round(-1.25), round(1.2), round(1.7), round(-1.6)"
   ]
  },
  {
   "cell_type": "code",
   "execution_count": null,
   "id": "465dea4f",
   "metadata": {},
   "outputs": [],
   "source": [
    "abs() - модуль # быстрые комментарии в Python: ctrl + ?\n",
    "\n",
    "abs(-10)"
   ]
  },
  {
   "cell_type": "markdown",
   "id": "44a1bdda",
   "metadata": {},
   "source": [
    "__Задача 2__"
   ]
  },
  {
   "cell_type": "markdown",
   "id": "7212d986",
   "metadata": {},
   "source": [
    "На вход подается целое число секунд. Вывести на экран сколько будет минут и секунд в форме: Минуты: x Секунды: y"
   ]
  },
  {
   "cell_type": "code",
   "execution_count": 41,
   "id": "0160ac48",
   "metadata": {},
   "outputs": [],
   "source": [
    "# Тут ваш код"
   ]
  },
  {
   "cell_type": "markdown",
   "id": "207bf5a6",
   "metadata": {},
   "source": [
    "__Задача 3__ (на дом)\n",
    "\n",
    "На вход подается целое число секунд. Вывести на экран сколько будет часов, минут и секунд в формате: 00:00:00\n",
    "\n",
    "* Подсказка: после получения часов, минут и секунд их нужно перевести в строчку и склеить (про склейку строк читать ниже)"
   ]
  },
  {
   "cell_type": "code",
   "execution_count": 42,
   "id": "942d551b",
   "metadata": {},
   "outputs": [],
   "source": [
    "# Тут ваш код"
   ]
  },
  {
   "cell_type": "markdown",
   "id": "e5e0a708",
   "metadata": {},
   "source": [
    "__float__"
   ]
  },
  {
   "cell_type": "code",
   "execution_count": 30,
   "id": "fe412688",
   "metadata": {},
   "outputs": [
    {
     "name": "stdout",
     "output_type": "stream",
     "text": [
      "12.345 <class 'float'>\n"
     ]
    }
   ],
   "source": [
    "y = 12.345\n",
    "\n",
    "print(y, type(y))"
   ]
  },
  {
   "cell_type": "code",
   "execution_count": 31,
   "id": "66dd0281",
   "metadata": {},
   "outputs": [
    {
     "name": "stdout",
     "output_type": "stream",
     "text": [
      "9.3 21.419999999999998 1.25\n"
     ]
    }
   ],
   "source": [
    "a = 4.2 + 5.1\n",
    "b = 4.2 * 5.1\n",
    "c = 5.0 / 4.0\n",
    "\n",
    "print(a, b, c)"
   ]
  },
  {
   "cell_type": "code",
   "execution_count": null,
   "id": "f17c83be",
   "metadata": {},
   "outputs": [],
   "source": [
    "a = 5\n",
    "b = 4\n",
    "print(float(a) / float(b))"
   ]
  },
  {
   "cell_type": "code",
   "execution_count": 32,
   "id": "364ffb8a",
   "metadata": {},
   "outputs": [
    {
     "data": {
      "text/plain": [
       "1.25"
      ]
     },
     "execution_count": 32,
     "metadata": {},
     "output_type": "execute_result"
    }
   ],
   "source": [
    "5/4"
   ]
  },
  {
   "cell_type": "code",
   "execution_count": 39,
   "id": "35f8991a",
   "metadata": {},
   "outputs": [
    {
     "data": {
      "text/plain": [
       "False"
      ]
     },
     "execution_count": 39,
     "metadata": {},
     "output_type": "execute_result"
    }
   ],
   "source": [
    "0.1 + 0.05 == 0.15 # проблема плавающей точки"
   ]
  },
  {
   "attachments": {},
   "cell_type": "markdown",
   "id": "94417fc8",
   "metadata": {},
   "source": [
    "#### Решение: PEP 485: A function for testing approximate equality\n",
    "PEP 485 adds the math.isclose() and cmath.isclose() functions which tell whether two values are approximately equal or “close” to each other. Whether or not two values are considered close is determined according to given absolute and relative tolerances. Relative tolerance is the maximum allowed difference between isclose arguments, relative to the larger absolute value"
   ]
  },
  {
   "cell_type": "code",
   "execution_count": 40,
   "id": "0b6a04ff",
   "metadata": {},
   "outputs": [
    {
     "data": {
      "text/plain": [
       "False"
      ]
     },
     "execution_count": 40,
     "metadata": {},
     "output_type": "execute_result"
    }
   ],
   "source": [
    "import math\n",
    "a = 5.0\n",
    "b = 4.99998\n",
    "math.isclose(a, b, rel_tol=1e-5)\n",
    "# True\n",
    "math.isclose(a, b, rel_tol=1e-6)\n",
    "# False"
   ]
  },
  {
   "cell_type": "markdown",
   "id": "6d63f627",
   "metadata": {},
   "source": [
    "__bool__"
   ]
  },
  {
   "cell_type": "code",
   "execution_count": null,
   "id": "2c6ace02",
   "metadata": {},
   "outputs": [],
   "source": [
    "a = True\n",
    "b = False\n",
    "\n",
    "print(a, '|', type(a))\n",
    "\n",
    "print(b, '|', type(b))"
   ]
  },
  {
   "cell_type": "code",
   "execution_count": null,
   "id": "e72e768b",
   "metadata": {},
   "outputs": [],
   "source": [
    "print(a + b)\n",
    "print(a + a)\n",
    "print(b + b)"
   ]
  },
  {
   "cell_type": "code",
   "execution_count": null,
   "id": "e243728d",
   "metadata": {},
   "outputs": [],
   "source": [
    "print(int(a), int(b))"
   ]
  },
  {
   "cell_type": "code",
   "execution_count": null,
   "id": "236ea90c",
   "metadata": {},
   "outputs": [],
   "source": [
    "print(True and False, '\\n')\n",
    "\n",
    "print(True or True, '\\n')\n",
    "\n",
    "print(not False, '\\n')"
   ]
  },
  {
   "cell_type": "markdown",
   "id": "eff8c221",
   "metadata": {},
   "source": [
    "__None__"
   ]
  },
  {
   "cell_type": "code",
   "execution_count": null,
   "id": "e7d48975",
   "metadata": {},
   "outputs": [],
   "source": [
    "z = None\n",
    "print(z, '|', type(z))"
   ]
  },
  {
   "cell_type": "code",
   "execution_count": null,
   "id": "32df3c85",
   "metadata": {},
   "outputs": [],
   "source": [
    "int(z)"
   ]
  },
  {
   "cell_type": "markdown",
   "id": "06e1a77f",
   "metadata": {},
   "source": [
    "## Про str и print"
   ]
  },
  {
   "cell_type": "markdown",
   "id": "d431f29b",
   "metadata": {},
   "source": [
    "В *python3.6 и выше* нет отдельного типа для символа, символы имеют тип **str**."
   ]
  },
  {
   "cell_type": "code",
   "execution_count": 61,
   "id": "6d6656b8",
   "metadata": {},
   "outputs": [
    {
     "name": "stdout",
     "output_type": "stream",
     "text": [
      "abc | <class 'str'>\n",
      "xyz | <class 'str'>\n"
     ]
    }
   ],
   "source": [
    "x = \"abc\" # способ задания раз\n",
    "y = 'xyz' # способ задания два\n",
    "print(x, '|', type(x))\n",
    "print(y, '|', type(y))"
   ]
  },
  {
   "cell_type": "markdown",
   "id": "472a5573",
   "metadata": {},
   "source": [
    "#### Конкатенация строк (или по-русски склейка)"
   ]
  },
  {
   "cell_type": "code",
   "execution_count": 71,
   "id": "0dec1e32",
   "metadata": {},
   "outputs": [
    {
     "name": "stdout",
     "output_type": "stream",
     "text": [
      "Артём Иванович\n"
     ]
    }
   ],
   "source": [
    "name = 'Артём'\n",
    "middle_name = \"Иванов\" + \"ич\"\n",
    "s = a + \" \" + b\n",
    "print(s)"
   ]
  },
  {
   "cell_type": "code",
   "execution_count": 72,
   "id": "9160ce2f",
   "metadata": {},
   "outputs": [
    {
     "name": "stdout",
     "output_type": "stream",
     "text": [
      "АРТЁМ\n",
      "артём\n"
     ]
    }
   ],
   "source": [
    "print(name.upper())\n",
    "print(name.lower())"
   ]
  },
  {
   "cell_type": "code",
   "execution_count": 73,
   "id": "d7ddc2da",
   "metadata": {},
   "outputs": [
    {
     "name": "stdout",
     "output_type": "stream",
     "text": [
      "9\n"
     ]
    }
   ],
   "source": [
    "print(len('Д л И н А'))"
   ]
  },
  {
   "cell_type": "markdown",
   "id": "566e29ca",
   "metadata": {},
   "source": [
    "__Экранированные символы__"
   ]
  },
  {
   "cell_type": "markdown",
   "id": "0dbda778",
   "metadata": {},
   "source": [
    "    \\ в самом конце строки\t- Игнорируется, строка продолжается на новой строке\n",
    "    \\\\\t- Сам символ обратного слеша (остается один символ \\)\n",
    "    \\'\t- Апостроф (остается один ‘)\n",
    "    \\\"\t- Кавычка (остается один символ \")\n",
    "    \\n\t- Новая строка (перевод строки)\n",
    "    \\r\t- Возврат каретки\n",
    "    \\t\t- Горизонтальная табуляция\n",
    "    \\u…\t- 16-битовый символ Юникода в 16-ричном представлении\n",
    "    \\U…\t- 32-битовый символ Юникода в 32-ричном представлении\n",
    "    \\x…\t- 16-ричное значение\n",
    "    \\o…\t- 8-ричное значение\n",
    "    \\0\t- Символ Null (не признак конца строки)"
   ]
  },
  {
   "cell_type": "code",
   "execution_count": 77,
   "id": "1c3e195f",
   "metadata": {},
   "outputs": [
    {
     "data": {
      "text/plain": [
       "3242342342342342342342342365764654735735866846988876874233202134959396"
      ]
     },
     "execution_count": 77,
     "metadata": {},
     "output_type": "execute_result"
    }
   ],
   "source": [
    "# можно писать так:\n",
    "2 + 2 + 3242342342342342342342342342341231312312454534534523421423412435245345 + 23423423423423412312454353452341231231245345 \\\n",
    "+ 234234234234234 + 234324234234234 \\\n",
    "+ 234"
   ]
  },
  {
   "cell_type": "code",
   "execution_count": 97,
   "id": "ad7fdb61",
   "metadata": {},
   "outputs": [
    {
     "name": "stdout",
     "output_type": "stream",
     "text": [
      "Привет\r",
      "Что\n",
      "012345\r",
      "ноль\n",
      "Можно\tделать\tтак\n",
      "\n",
      "Заполните анкету:\n",
      "Имя\n",
      "Пол\n",
      "Возраст\n"
     ]
    }
   ],
   "source": [
    "print(\"Привет\\rЧто\")\n",
    "print('012345\\rноль')\n",
    "print('Можно\\tделать\\tтак')\n",
    "print('\\nЗаполните анкету:\\nИмя\\nПол\\nВозраст')"
   ]
  },
  {
   "cell_type": "code",
   "execution_count": 68,
   "id": "efa302fe",
   "metadata": {},
   "outputs": [
    {
     "ename": "SyntaxError",
     "evalue": "invalid syntax (Temp/ipykernel_4328/1510965239.py, line 1)",
     "output_type": "error",
     "traceback": [
      "\u001b[1;36m  File \u001b[1;32m\"C:\\Users\\Yuriy\\AppData\\Local\\Temp/ipykernel_4328/1510965239.py\"\u001b[1;36m, line \u001b[1;32m1\u001b[0m\n\u001b[1;33m    print(\"Он \"хороший\" человек\")\u001b[0m\n\u001b[1;37m               ^\u001b[0m\n\u001b[1;31mSyntaxError\u001b[0m\u001b[1;31m:\u001b[0m invalid syntax\n"
     ]
    }
   ],
   "source": [
    "print(\"Он \"хороший\" человек\")\n",
    "# Упс..."
   ]
  },
  {
   "cell_type": "code",
   "execution_count": 69,
   "id": "a0c6cafb",
   "metadata": {},
   "outputs": [
    {
     "name": "stdout",
     "output_type": "stream",
     "text": [
      "Он \"хороший\" человек\n",
      "Он 'хороший' человек\n"
     ]
    }
   ],
   "source": [
    "print(\"Он \\\"хороший\\\" человек\")\n",
    "print(\"Он 'хороший' человек\")"
   ]
  },
  {
   "cell_type": "markdown",
   "id": "6460a487",
   "metadata": {},
   "source": [
    "\"\"\" \"\"\" или ''' ''' - triple quotes (тройные кавычки помогают использовать \"\" и '' одновременно, а так же нет необходимости \n",
    "использовать \\n для перехода на новую строку, так как это будет сделано автоматически, если перенести на новую строчку enter'ом"
   ]
  },
  {
   "cell_type": "code",
   "execution_count": 76,
   "id": "40fc2e2d",
   "metadata": {},
   "outputs": [
    {
     "name": "stdout",
     "output_type": "stream",
     "text": [
      "Хм\n",
      "Отступ?\n",
      "Привет\n"
     ]
    }
   ],
   "source": [
    "print(\"\"\"Хм\n",
    "Отступ?\n",
    "Привет\"\"\")"
   ]
  },
  {
   "cell_type": "code",
   "execution_count": 106,
   "id": "ef871044",
   "metadata": {},
   "outputs": [
    {
     "name": "stdout",
     "output_type": "stream",
     "text": [
      "4\n"
     ]
    }
   ],
   "source": [
    "'''\n",
    "Высокий комментарий\n",
    "Долой множество #\n",
    "'''\n",
    "print(4)"
   ]
  },
  {
   "cell_type": "code",
   "execution_count": 117,
   "id": "30161e67",
   "metadata": {},
   "outputs": [
    {
     "name": "stdout",
     "output_type": "stream",
     "text": [
      "2\n",
      "2\n",
      "меня зовут 2 мой возраст 2\n"
     ]
    }
   ],
   "source": [
    "name = input()\n",
    "age = input()\n",
    "\n",
    "print(\"меня зовут \" + name + \" мой возраст \" + str(age))"
   ]
  },
  {
   "cell_type": "markdown",
   "id": "ce1f1551",
   "metadata": {},
   "source": [
    "### Slice (или срез) строки"
   ]
  },
  {
   "cell_type": "markdown",
   "id": "6c12aae0",
   "metadata": {},
   "source": [
    "Срез (slice) — извлечение из данной строки одного символа или некоторого фрагмента (подстроки).\n",
    "\n",
    "Есть три формы срезов. Самая простая форма среза: взятие одного символа строки, а именно, S[i] — это срез, состоящий из одного символа, который имеет номер i, при этом считая, что нумерация начинается с числа 0. То есть если S = ‘Hello’, то S[0]=='H', S[1]=='e', S[2]=='l', S[3]=='l', S[4]=='o'.\n",
    "\n",
    "Номера символов в строке (а также в других структурах данных: списках, кортежах) называются индексом.\n",
    "Если указать отрицательное значение индекса, то номер будет отсчитываться с конца, начиная с номера -1. То есть\n",
    "\n",
    "S[-1]=='o', S[-2]=='l', S[-3]=='l', S[-4]=='e', S[-5]=='H'.\n",
    "\n",
    "Если же номер символа в срезе строки S больше либо равен len(S), или меньше, чем -len(S), то при обращении к этому символу строки произойдет ошибка IndexError: string index out of range.\n",
    "\n",
    "Срез с двумя параметрами: S[a:b] возвращает подстроку из b-a символов, начиная с символа c индексом a, то есть до символа с индексом b, не включая его. Например, S[1:4]==‘ell’, то же самое получится если написать S[-4:-1]. Можно использовать как положительные, так и отрицательные индексы в одном срезе, например, S[1:-1] — это строка без первого и последнего символа (срез начинается с символа с индексом 1 и заканчивается индексом -1, не включая его).\n",
    "\n",
    "При использовании такой формы среза ошибки IndexError никогда не возникает. Например, срез S[1:5] вернет строку ‘ello’, таким же будет результат, если сделать второй индекс очень большим, например, S[1:100] (если в строке не более 100 символов).\n",
    "\n",
    "Если опустить второй параметр (но поставить двоеточие), то срез берется до конца строки. Например, чтобы удалить из строки первый символ (его индекс равен 0, то есть взять срез, начиная с символа с индексом 1), то можно взять срез S[1:], аналогично если опустить первый параметр, то срез берется от начала строки. То есть удалить из строки последний символ можно при помощи среза S[:-1]. Срез S[:] совпадает с самой строкой S.\n",
    "\n",
    "Если задать срез с тремя параметрами S[a:b:d], то третий параметр задает шаг, как в случае с функцией range, то есть будут взяты символы с индексами a, a+d, a+2*d и т.д. При задании значения третьего параметра, равному 2, в срез попадет каждый второй символ, а если взять значение среза, равное -1, то символы будут идти в обратном порядке."
   ]
  },
  {
   "cell_type": "code",
   "execution_count": 119,
   "id": "72381ebf",
   "metadata": {},
   "outputs": [
    {
     "name": "stdout",
     "output_type": "stream",
     "text": [
      "hi\n"
     ]
    }
   ],
   "source": [
    "s = input()\n",
    "\n",
    "# Выведем третий символ этой строки.\n",
    "\n",
    "# Выведем предпоследний символ этой строки.\n",
    "\n",
    "# Выведем первые пять символов этой строки.\n",
    "\n",
    "# Выведем всю строку, кроме последних двух символов.\n",
    "\n",
    "# Выведем все символы с четными индексами (считая, что индексация начинается с 0, поэтому символы выводятся начиная с первого).\n",
    "\n",
    "# Выведем все символы с нечетными индексами, то есть начиная со второго символа строки.\n",
    "\n",
    "# Выведем все символы в обратном порядке.\n",
    "\n",
    "# Выведем все символы строки через один в обратном порядке, начиная с последнего."
   ]
  },
  {
   "cell_type": "code",
   "execution_count": 120,
   "id": "6db3171a",
   "metadata": {},
   "outputs": [
    {
     "name": "stdout",
     "output_type": "stream",
     "text": [
      "True\n",
      "False\n"
     ]
    }
   ],
   "source": [
    "print(bool(a)) #у непустой строчки true при преобразовании в bool\n",
    "print(bool(\"\" + '')) #у пустой строчки false"
   ]
  },
  {
   "cell_type": "code",
   "execution_count": 121,
   "id": "0c5c705a",
   "metadata": {
    "scrolled": true
   },
   "outputs": [
    {
     "name": "stdout",
     "output_type": "stream",
     "text": [
      "Роберт Дауни Младший <class 'str'>\n",
      "b'\\xd0\\xa0\\xd0\\xbe\\xd0\\xb1\\xd0\\xb5\\xd1\\x80\\xd1\\x82 \\xd0\\x94\\xd0\\xb0\\xd1\\x83\\xd0\\xbd\\xd0\\xb8 \\xd0\\x9c\\xd0\\xbb\\xd0\\xb0\\xd0\\xb4\\xd1\\x88\\xd0\\xb8\\xd0\\xb9' <class 'bytes'>\n",
      "Роберт Дауни Младший <class 'str'>\n",
      "Р РѕР±РµСЂС‚ Р”Р°СѓРЅРё РњР»Р°РґС€РёР№ <class 'str'>\n"
     ]
    }
   ],
   "source": [
    "x = 'Роберт Дауни Младший'\n",
    "print(x, type(x))\n",
    "y = x.encode('utf-8')\n",
    "print(y, type(y))\n",
    "z = y.decode('utf-8')\n",
    "print(z, type(z))\n",
    "q = y.decode('cp1251')\n",
    "print(q, type(q))"
   ]
  },
  {
   "cell_type": "markdown",
   "id": "04016f91",
   "metadata": {},
   "source": [
    "### Метод split"
   ]
  },
  {
   "cell_type": "code",
   "execution_count": 122,
   "id": "35640a88",
   "metadata": {},
   "outputs": [
    {
     "name": "stdout",
     "output_type": "stream",
     "text": [
      "['Козко', 'Артём', 'Иванович']\n",
      "['Козко', 'Артём Иванович']\n"
     ]
    }
   ],
   "source": [
    "splitted_line = \"Козко Артём Иванович\".split(' ')\n",
    "print(splitted_line)\n",
    "splitted_line = \"Козко Артём Иванович\".split(' ', maxsplit=1)\n",
    "print(splitted_line)"
   ]
  },
  {
   "cell_type": "markdown",
   "id": "3f3da967",
   "metadata": {},
   "source": [
    "### Циклы for, while, условный оператор if"
   ]
  },
  {
   "cell_type": "code",
   "execution_count": 49,
   "id": "c2473476",
   "metadata": {},
   "outputs": [],
   "source": [
    "a = 5\n",
    "\n",
    "# Мини-задание 0: проверить, равно ли число a 10\n",
    "# Мини-задание 1: проверить лежит ли число a в промежутке от (0,5]\n",
    "# Мини-задание 1*: если a лежит в прожежутке, то вывести 'Бинго', иначе если a > 0 вывести \"Хм\", а если a<=0, то вывести \"Не то\"\n",
    "# Мини-задание 2: print('1'), если True + False\n",
    "# Мини-задание 3: узнать опытным путём, что выдаст if от 5\n",
    "\n"
   ]
  },
  {
   "cell_type": "code",
   "execution_count": null,
   "id": "9c2576db",
   "metadata": {},
   "outputs": [],
   "source": [
    "# Мини-задание 4: вывести на экран последовательность от 0 до 10\n",
    "# Мини-задание 5: вывести на экран последовательность от 2 до 8 с шагом 2\n",
    "# Мини-задание 6: вывести на экран последовательность от 10 до 0"
   ]
  },
  {
   "cell_type": "code",
   "execution_count": null,
   "id": "2b5fd10d",
   "metadata": {},
   "outputs": [],
   "source": [
    "# Мини-задание 7: посчитать факториал 10 не используя рекурсию\n",
    "# Мини-задание 8: прибавлять к 0 единицы, пока не получим 15\n",
    "# Мини-задание 9: вывести числа от 0 до 4, кроме числа 3"
   ]
  },
  {
   "cell_type": "markdown",
   "id": "415d7608",
   "metadata": {},
   "source": [
    "### Проверка типов"
   ]
  },
  {
   "cell_type": "code",
   "execution_count": 51,
   "id": "460a71ff",
   "metadata": {},
   "outputs": [
    {
     "data": {
      "text/plain": [
       "'I am None!'"
      ]
     },
     "execution_count": 51,
     "metadata": {},
     "output_type": "execute_result"
    }
   ],
   "source": [
    "z = None\n",
    "\n",
    "if z is None:\n",
    "    z = 'I am None!'\n",
    "z"
   ]
  },
  {
   "cell_type": "code",
   "execution_count": 59,
   "id": "025440bd",
   "metadata": {},
   "outputs": [
    {
     "data": {
      "text/plain": [
       "float"
      ]
     },
     "execution_count": 59,
     "metadata": {},
     "output_type": "execute_result"
    }
   ],
   "source": [
    "a = 5.\n",
    "if a is int:\n",
    "    print('Yeap') # не работает"
   ]
  },
  {
   "cell_type": "code",
   "execution_count": 58,
   "id": "bb1c6b85",
   "metadata": {},
   "outputs": [
    {
     "data": {
      "text/plain": [
       "False"
      ]
     },
     "execution_count": 58,
     "metadata": {},
     "output_type": "execute_result"
    }
   ],
   "source": [
    "isinstance(a, int) #хм..."
   ]
  },
  {
   "cell_type": "code",
   "execution_count": 60,
   "id": "d26be6ca",
   "metadata": {},
   "outputs": [
    {
     "data": {
      "text/plain": [
       "True"
      ]
     },
     "execution_count": 60,
     "metadata": {},
     "output_type": "execute_result"
    }
   ],
   "source": [
    "isinstance(5, int) # так лучше"
   ]
  },
  {
   "cell_type": "markdown",
   "id": "a3479cb4",
   "metadata": {},
   "source": [
    "### Справка"
   ]
  },
  {
   "cell_type": "code",
   "execution_count": 11,
   "id": "d49dd90b",
   "metadata": {},
   "outputs": [],
   "source": [
    "np.sqrt?"
   ]
  },
  {
   "cell_type": "code",
   "execution_count": 13,
   "id": "09530604",
   "metadata": {},
   "outputs": [],
   "source": [
    "help(np.sqrt)"
   ]
  }
 ],
 "metadata": {
  "kernelspec": {
   "display_name": "Python 3 (ipykernel)",
   "language": "python",
   "name": "python3"
  },
  "language_info": {
   "codemirror_mode": {
    "name": "ipython",
    "version": 3
   },
   "file_extension": ".py",
   "mimetype": "text/x-python",
   "name": "python",
   "nbconvert_exporter": "python",
   "pygments_lexer": "ipython3",
   "version": "3.9.7"
  }
 },
 "nbformat": 4,
 "nbformat_minor": 5
}
